{
 "cells": [
  {
   "cell_type": "code",
   "execution_count": 1,
   "id": "52bba82f",
   "metadata": {},
   "outputs": [],
   "source": [
    "import spacy"
   ]
  },
  {
   "cell_type": "code",
   "execution_count": 2,
   "id": "92e471e1",
   "metadata": {},
   "outputs": [],
   "source": [
    "nlp = spacy.load('en_core_web_sm')"
   ]
  },
  {
   "cell_type": "code",
   "execution_count": 3,
   "id": "a3300520",
   "metadata": {},
   "outputs": [
    {
     "name": "stdout",
     "output_type": "stream",
     "text": [
      "{'then', 'you', 'some', 'as', 'us', 'go', 'used', 'per', 'least', 'first', 'without', 'during', 'whereby', 'thru', 'afterwards', 'towards', 'call', 'if', 'to', 'wherever', 'himself', 'from', 'side', 'ever', 'somehow', 'myself', 'whether', 'thus', 'several', 'not', 'empty', 'yet', 'each', 'mostly', 'meanwhile', 'up', 'would', 'through', 'have', 'either', 'most', 'yourselves', 'toward', 'next', 'themselves', 'that', 'seem', 'besides', 'herein', 'which', 'a', 'am', 'cannot', 'twelve', 'other', 'however', 'where', 'had', 'seeming', 'six', 'nothing', 'therefore', 'whatever', 'any', 'keep', 'few', 'much', 'everything', 'amount', 'done', 'every', 'almost', 'noone', 'so', 'upon', 'throughout', 'the', 'else', 'via', 'they', 'third', 'nevertheless', 'must', 'in', 'all', 'him', 'such', 'between', 'more', 'everyone', 'various', 'namely', 'nowhere', 'something', 'nobody', 'someone', 'sometimes', 'anyway', 'at', 'against', 'both', 'down', 'herself', 'wherein', 'this', 'do', 'around', 'itself', 'name', 'can', 'hereupon', 'others', 'though', 'together', 'already', 'everywhere', 'whereafter', 'because', 'for', 'former', 'forty', 'once', 'due', 'further', 'into', 'out', 'than', 'whenever', 'across', 'until', 'his', 'last', 'might', 'full', 'by', 'how', 'get', 'hereby', 'me', 'neither', 'seems', 'she', 'still', 'give', 'was', 'anywhere', 'beside', 'using', 'were', 'with', 'see', 'eight', 'mine', 'below', 'who', 'thence', 'but', 're', 'moreover', 'these', 'another', 'beforehand', 'five', 'it', 'yourself', 'before', 'twenty', 'anyhow', 'my', 'whereas', 'its', 'please', 'an', 'being', 'fifteen', 'be', 'while', 'perhaps', 'he', 'whose', 'also', 'three', 'part', 'regarding', 'hence', 'onto', 'make', 'or', 'yours', 'seemed', 'did', 'always', 'anything', 'ours', 'amongst', 'quite', 'latterly', 'when', 'except', 'nine', 'off', 'sixty', 'hereafter', 'same', 'them', 'again', 'thereafter', 'ca', 'are', 'indeed', 'alone', 'although', 'just', 'whole', 'put', 'serious', 'show', 'one', 'should', 'became', 'formerly', 'made', 'whence', 'four', 'under', 'bottom', 'could', 'there', 'anyone', 'is', 'thereby', 'many', 'too', 'on', 'back', 'has', 'rather', 'really', 'why', 'unless', 'eleven', 'never', 'elsewhere', 'since', 'less', 'take', 'whither', 'top', 'move', 'own', 'may', 'say', 'whoever', 'becoming', 'i', 'along', 'whom', 'about', 'does', 'nor', 'enough', 'here', 'over', 'those', 'somewhere', 'latter', 'only', 'of', 'whereupon', 'after', 'become', 'behind', 'hundred', 'our', 'now', 'what', 'doing', 'been', 'beyond', 'very', 'two', 'front', 'ten', 'otherwise', 'therein', 'thereupon', 'will', 'even', 'fifty', 'hers', 'no', 'within', 'among', 'we', 'above', 'ourselves', 'their', 'sometime', 'and', 'your', 'well', 'none', 'becomes', 'often', 'her'}\n"
     ]
    }
   ],
   "source": [
    "print(nlp.Defaults.stop_words)"
   ]
  },
  {
   "cell_type": "code",
   "execution_count": 4,
   "id": "95f3b67c",
   "metadata": {},
   "outputs": [
    {
     "data": {
      "text/plain": [
       "305"
      ]
     },
     "execution_count": 4,
     "metadata": {},
     "output_type": "execute_result"
    }
   ],
   "source": [
    "len(nlp.Defaults.stop_words)"
   ]
  },
  {
   "cell_type": "code",
   "execution_count": 10,
   "id": "7ea9311e",
   "metadata": {},
   "outputs": [
    {
     "data": {
      "text/plain": [
       "False"
      ]
     },
     "execution_count": 10,
     "metadata": {},
     "output_type": "execute_result"
    }
   ],
   "source": [
    "nlp.vocab['mystery'].is_stop"
   ]
  },
  {
   "cell_type": "code",
   "execution_count": 11,
   "id": "d5a29db2",
   "metadata": {},
   "outputs": [],
   "source": [
    "nlp.Defaults.stop_words.add('btw')"
   ]
  },
  {
   "cell_type": "code",
   "execution_count": 16,
   "id": "5e2f42ea",
   "metadata": {},
   "outputs": [],
   "source": [
    "nlp.vocab['btw'].is_stop = True"
   ]
  },
  {
   "cell_type": "code",
   "execution_count": 17,
   "id": "22614253",
   "metadata": {},
   "outputs": [
    {
     "data": {
      "text/plain": [
       "306"
      ]
     },
     "execution_count": 17,
     "metadata": {},
     "output_type": "execute_result"
    }
   ],
   "source": [
    "len(nlp.Defaults.stop_words)"
   ]
  },
  {
   "cell_type": "code",
   "execution_count": 18,
   "id": "3f4c7dc3",
   "metadata": {},
   "outputs": [
    {
     "data": {
      "text/plain": [
       "True"
      ]
     },
     "execution_count": 18,
     "metadata": {},
     "output_type": "execute_result"
    }
   ],
   "source": [
    "nlp.vocab['btw'].is_stop"
   ]
  },
  {
   "cell_type": "code",
   "execution_count": 19,
   "id": "7e6d6491",
   "metadata": {},
   "outputs": [],
   "source": [
    "nlp.Defaults.stop_words.remove('beyond')"
   ]
  },
  {
   "cell_type": "code",
   "execution_count": 20,
   "id": "014ee68a",
   "metadata": {},
   "outputs": [],
   "source": [
    "nlp.vocab['beyond'].is_stop = False"
   ]
  },
  {
   "cell_type": "code",
   "execution_count": 21,
   "id": "85f183f5",
   "metadata": {},
   "outputs": [
    {
     "data": {
      "text/plain": [
       "False"
      ]
     },
     "execution_count": 21,
     "metadata": {},
     "output_type": "execute_result"
    }
   ],
   "source": [
    "nlp.vocab['beyond'].is_stop"
   ]
  },
  {
   "cell_type": "code",
   "execution_count": null,
   "id": "a6d29810",
   "metadata": {},
   "outputs": [],
   "source": []
  }
 ],
 "metadata": {
  "kernelspec": {
   "display_name": "Python 3 (ipykernel)",
   "language": "python",
   "name": "python3"
  },
  "language_info": {
   "codemirror_mode": {
    "name": "ipython",
    "version": 3
   },
   "file_extension": ".py",
   "mimetype": "text/x-python",
   "name": "python",
   "nbconvert_exporter": "python",
   "pygments_lexer": "ipython3",
   "version": "3.7.16"
  }
 },
 "nbformat": 4,
 "nbformat_minor": 5
}
